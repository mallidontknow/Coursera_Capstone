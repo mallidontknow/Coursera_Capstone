{
    "nbformat_minor": 1, 
    "cells": [
        {
            "source": "There's an Italian IT growing company that is planning to open a new office.\nThe first office is in Naples and the second one should be there too. \nI will analyse which one is the best location for the new office, my goal is to satisfy both entrepreneur and employeers needs to create the best working environment. So the office should be in a zone that can be easily reached, in a zone with restaurant and coffee shops so that the employers can enjoy their breaks.\nThis analisys can be actually reused from anyone intends to open a new office in Naples and care about the happiness of their employers.", 
            "cell_type": "markdown", 
            "metadata": {
                "collapsed": true
            }
        }
    ], 
    "metadata": {
        "kernelspec": {
            "display_name": "Python 3.5", 
            "name": "python3", 
            "language": "python"
        }, 
        "language_info": {
            "mimetype": "text/x-python", 
            "nbconvert_exporter": "python", 
            "version": "3.5.5", 
            "name": "python", 
            "file_extension": ".py", 
            "pygments_lexer": "ipython3", 
            "codemirror_mode": {
                "version": 3, 
                "name": "ipython"
            }
        }
    }, 
    "nbformat": 4
}