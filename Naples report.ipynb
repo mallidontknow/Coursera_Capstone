{
    "nbformat_minor": 1, 
    "cells": [
        {
            "source": "Introduction:\nThere's an Italian IT growing company that is planning to open a new office. The first office is in Naples and the second one should be there too. I will analyse which one is the best location for the new office, my goal is to satisfy both entrepreneur and employeers needs to create the best working environment. So the office should be in a zone that can be easily reached, in a zone with restaurant and coffee shops so that the employers can enjoy their breaks. This analisys can be actually reused from anyone intends to open a new office in Naples and care about the happiness of their employers.\n\nData:\nIn order to retrieve the list of the neighborhoods in Naples, I will do a GET request of the Wikipedia website (https://it.wikipedia.org/wiki/Quartieri_di_Napoli). Then I will use the list in this website: https://news.unicreditsubitocasa.it/vendere-e-comprare/napoli-quartieri-prezzi-immobili-trasporti/ to retrieve the best neighborhoods and to create a map of them, to have a better understanding of the area we are going to analyse. I will use a csv file about the coordinates of the stations in each neighborhood and finally I will use the Foursquare API to figure out which one is the perfect place for a new office, looking for a place near a train station and with a good choice of restaurants and coffee shops that results good for workers.\n\nMethodology section:\nI firstly have retrieved the data about neighborhoods from wikipedia website. Then I worked on it to create a dataframe. For a in-depth analysis I've retrieved the data from another website in which are described the best neighborhoods where to live in Naples and I've compared my dataframe and the one built with the second website data to get the existing best neighborhoods. I've mapped the train stations for each neighborhoods and I've figured out that the most easily reachable is the Vomero neighborhood, because there are two station in a radius of 250m. So I decided to analyse this neighborhood. Finally, with Foursquare API I've retrieved the data about nearby restaurants. There are many restaurants in that zone, food from all countries of the world (Japan, India etc) so all the employers have a good choice for what to eat during lunch break. And also there is a park where they can enjoy their break. So it's definitively a good place where to open an office!\n\nResult:\nAccording to the analysis as you can see from the map in the other notebook, the best place where to open an office is between two Neighborhoods: Vomero and Chiaia. In this area there are two train stations, different restaurants and also a park where the employeers can enjoy their breaks.\n\nDiscussion:\nIs better to have a Commercial account when you use the Foursquare API, or the data you retrieve is never enough for a good analisys. Folium library is a really good method to analyse the data retrieved with Foursquare API. In this way you have a better understanding of the zone you're analysing and it's really much simpler to analyse the data, because you have a visual feedback of it.\n\nConclusion:\nIn conclusion we can say that all Naples neighborhoods are good places to open an office, but the best one is Vomero. According to a research is also the richest one, where the renting is more high. So the best thing to do could be to open an office in the middle between Vomero and Chiaia. In this way you can take advantage of the stations of Vomero and Chiaia together, the park and all the good restaurants of the zone. ", 
            "cell_type": "markdown", 
            "metadata": {
                "collapsed": true
            }
        }
    ], 
    "metadata": {
        "kernelspec": {
            "display_name": "Python 3.5", 
            "name": "python3", 
            "language": "python"
        }, 
        "language_info": {
            "mimetype": "text/x-python", 
            "nbconvert_exporter": "python", 
            "version": "3.5.5", 
            "name": "python", 
            "file_extension": ".py", 
            "pygments_lexer": "ipython3", 
            "codemirror_mode": {
                "version": 3, 
                "name": "ipython"
            }
        }
    }, 
    "nbformat": 4
}