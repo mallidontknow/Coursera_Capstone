{
    "nbformat_minor": 1, 
    "cells": [
        {
            "source": "# Best neighbourhoods in Naples to open an office", 
            "cell_type": "markdown", 
            "metadata": {}
        }, 
        {
            "source": "There's an Italian IT growing company that is planning to open a new office.\nThe first office is in Naples and the second one should be there too. \nI will analyse which one is the best location for the new office, my goal is to satisfy both entrepreneur and employeers needs to create the best working environment. So the office should be in a zone that can be easily reached, in a zone with restaurant and coffee shops so that the employers can enjoy their breaks.\nThis analisys can be actually reused from anyone intends to open a new office in Naples and care about the happiness of their employers.", 
            "cell_type": "markdown", 
            "metadata": {
                "collapsed": true
            }
        }, 
        {
            "source": "In order to retrieve the list of the neighborhoods in Naples, I will do a GET request of the Wikipedia website (https://it.wikipedia.org/wiki/Quartieri_di_Napoli). Then I will use the list in this website: https://news.unicreditsubitocasa.it/vendere-e-comprare/napoli-quartieri-prezzi-immobili-trasporti/ to retrieve the best neighborhoods and to create a map of them, to have a better understanding of the area we are going to analyse.\nI will use a csv file about the coordinates of the stations in each neighborhood and finally I will use the Foursquare API to figure out which one is the perfect place for a new office, looking for a place near a train station and with a good choice of restaurants and coffee shops that results good for workers.", 
            "cell_type": "markdown", 
            "metadata": {}
        }, 
        {
            "source": "Methodology section which represents the main component of the report where you discuss and describe any exploratory data analysis that you did, any inferential statistical testing that you performed, and what machine learnings were used and why.", 
            "cell_type": "markdown", 
            "metadata": {}
        }, 
        {
            "execution_count": null, 
            "cell_type": "code", 
            "metadata": {}, 
            "outputs": [], 
            "source": "!pip install beautifulsoup4\n!pip install folium"
        }, 
        {
            "execution_count": 16, 
            "cell_type": "code", 
            "metadata": {}, 
            "outputs": [], 
            "source": "#import section\n\nimport numpy as np \nimport pandas as pd \n\nfrom geopy.geocoders import Nominatim\n\nimport requests\nfrom bs4 import BeautifulSoup\nfrom pandas.io.json import json_normalize\n\nimport matplotlib.cm as cm\nimport matplotlib.colors as colors\n\nfrom sklearn.cluster import KMeans\n\nimport folium"
        }, 
        {
            "execution_count": 7, 
            "cell_type": "code", 
            "metadata": {}, 
            "outputs": [], 
            "source": "wiki_link = 'https://it.wikipedia.org/wiki/Quartieri_di_Napoli'\nwiki_page = requests.get(wiki_link)\n\n#I use BeautifulSoup package to get the entire HTML text\npage = BeautifulSoup(wiki_page.text, 'html.parser')\n\n#I use the find_all function of BeautifulSoup package to find all table tag \n#and take only the first one that was the one I was interested to\ntable = page.find_all('table')[0]\n\n#I use again the find_all function to get the rows of the table as a list\nrows = table.find_all('tr')\n\n#I will retrieve only the neighborhood, that is the only thing we're interested to\ncolumns = ['Neighborhood']\nnap = pd.DataFrame(columns=columns)\n\n#I use again the find_all function to retrive all the elements in a row. \n#Then I take only the text between the first tag and assign it to the column in the dataframe\nfor row in rows[1:]:\n    elements = row.find_all('td')\n    neighbh = elements[0].text\n    nap = nap.append({'Neighborhood': neighbh}, ignore_index=True)"
        }, 
        {
            "execution_count": 8, 
            "cell_type": "code", 
            "metadata": {}, 
            "outputs": [
                {
                    "execution_count": 8, 
                    "metadata": {}, 
                    "data": {
                        "text/html": "<div>\n<style scoped>\n    .dataframe tbody tr th:only-of-type {\n        vertical-align: middle;\n    }\n\n    .dataframe tbody tr th {\n        vertical-align: top;\n    }\n\n    .dataframe thead th {\n        text-align: right;\n    }\n</style>\n<table border=\"1\" class=\"dataframe\">\n  <thead>\n    <tr style=\"text-align: right;\">\n      <th></th>\n      <th>Neighborhood</th>\n    </tr>\n  </thead>\n  <tbody>\n    <tr>\n      <th>0</th>\n      <td>Arenella</td>\n    </tr>\n    <tr>\n      <th>1</th>\n      <td>Avvocata</td>\n    </tr>\n    <tr>\n      <th>2</th>\n      <td>Bagnoli</td>\n    </tr>\n    <tr>\n      <th>3</th>\n      <td>Barra</td>\n    </tr>\n    <tr>\n      <th>4</th>\n      <td>Chiaia</td>\n    </tr>\n  </tbody>\n</table>\n</div>", 
                        "text/plain": "  Neighborhood\n0     Arenella\n1     Avvocata\n2      Bagnoli\n3        Barra\n4       Chiaia"
                    }, 
                    "output_type": "execute_result"
                }
            ], 
            "source": "nap.head()"
        }, 
        {
            "execution_count": 9, 
            "cell_type": "code", 
            "metadata": {}, 
            "outputs": [], 
            "source": "_link = 'https://news.unicreditsubitocasa.it/vendere-e-comprare/napoli-quartieri-prezzi-immobili-trasporti/'\n_page = requests.get(_link)\npage = BeautifulSoup(_page.text, 'html.parser')\nneighbohs = page.find_all('h3')\n\nbest_neighbh = pd.DataFrame(columns=columns)\n\nfor neighb in neighbohs:\n    n = neighb.text\n    best_neighbh = best_neighbh.append({'Neighborhood': n[10:]}, ignore_index=True)"
        }, 
        {
            "execution_count": 10, 
            "cell_type": "code", 
            "metadata": {}, 
            "outputs": [
                {
                    "execution_count": 10, 
                    "metadata": {}, 
                    "data": {
                        "text/html": "<div>\n<style scoped>\n    .dataframe tbody tr th:only-of-type {\n        vertical-align: middle;\n    }\n\n    .dataframe tbody tr th {\n        vertical-align: top;\n    }\n\n    .dataframe thead th {\n        text-align: right;\n    }\n</style>\n<table border=\"1\" class=\"dataframe\">\n  <thead>\n    <tr style=\"text-align: right;\">\n      <th></th>\n      <th>Neighborhood</th>\n    </tr>\n  </thead>\n  <tbody>\n    <tr>\n      <th>0</th>\n      <td>Chiaia</td>\n    </tr>\n    <tr>\n      <th>1</th>\n      <td>rico</td>\n    </tr>\n    <tr>\n      <th>2</th>\n      <td>Vomero</td>\n    </tr>\n    <tr>\n      <th>3</th>\n      <td>Posillipo</td>\n    </tr>\n    <tr>\n      <th>4</th>\n      <td>Fuorigrotta</td>\n    </tr>\n    <tr>\n      <th>5</th>\n      <td>orrelati</td>\n    </tr>\n    <tr>\n      <th>6</th>\n      <td>interessarti anche:</td>\n    </tr>\n  </tbody>\n</table>\n</div>", 
                        "text/plain": "           Neighborhood\n0                Chiaia\n1                  rico\n2                Vomero\n3             Posillipo\n4           Fuorigrotta\n5              orrelati\n6   interessarti anche:"
                    }, 
                    "output_type": "execute_result"
                }
            ], 
            "source": "best_neighbh"
        }, 
        {
            "source": "I'll compare the two dataframes to clean the bad data from the best_neighbh dataframe.\nI'm doing that in order to have a double check on the data.", 
            "cell_type": "markdown", 
            "metadata": {}
        }, 
        {
            "execution_count": 11, 
            "cell_type": "code", 
            "metadata": {}, 
            "outputs": [
                {
                    "execution_count": 11, 
                    "metadata": {}, 
                    "data": {
                        "text/html": "<div>\n<style scoped>\n    .dataframe tbody tr th:only-of-type {\n        vertical-align: middle;\n    }\n\n    .dataframe tbody tr th {\n        vertical-align: top;\n    }\n\n    .dataframe thead th {\n        text-align: right;\n    }\n</style>\n<table border=\"1\" class=\"dataframe\">\n  <thead>\n    <tr style=\"text-align: right;\">\n      <th></th>\n      <th>Neighborhood</th>\n    </tr>\n  </thead>\n  <tbody>\n    <tr>\n      <th>0</th>\n      <td>Chiaia</td>\n    </tr>\n    <tr>\n      <th>1</th>\n      <td>Fuorigrotta</td>\n    </tr>\n    <tr>\n      <th>2</th>\n      <td>Posillipo</td>\n    </tr>\n    <tr>\n      <th>3</th>\n      <td>Vomero</td>\n    </tr>\n  </tbody>\n</table>\n</div>", 
                        "text/plain": "  Neighborhood\n0       Chiaia\n1  Fuorigrotta\n2    Posillipo\n3       Vomero"
                    }, 
                    "output_type": "execute_result"
                }
            ], 
            "source": "final_df = pd.DataFrame(columns=columns)\n\nfinal_df['Neighborhood'] = pd.merge(nap, best_neighbh, on='Neighborhood')\nfinal_df"
        }, 
        {
            "source": "Now I read the csv file about stations from my IBM cloud", 
            "cell_type": "markdown", 
            "metadata": {}
        }, 
        {
            "execution_count": 12, 
            "cell_type": "code", 
            "metadata": {}, 
            "outputs": [
                {
                    "execution_count": 12, 
                    "metadata": {}, 
                    "data": {
                        "text/html": "<div>\n<style scoped>\n    .dataframe tbody tr th:only-of-type {\n        vertical-align: middle;\n    }\n\n    .dataframe tbody tr th {\n        vertical-align: top;\n    }\n\n    .dataframe thead th {\n        text-align: right;\n    }\n</style>\n<table border=\"1\" class=\"dataframe\">\n  <thead>\n    <tr style=\"text-align: right;\">\n      <th></th>\n      <th>Neighborhood</th>\n      <th>Train Station</th>\n      <th>Latitude</th>\n      <th>Longitude</th>\n    </tr>\n  </thead>\n  <tbody>\n    <tr>\n      <th>0</th>\n      <td>Chiaia</td>\n      <td>Piazza Amedeo</td>\n      <td>40.833303</td>\n      <td>14.221684</td>\n    </tr>\n    <tr>\n      <th>1</th>\n      <td>Fuorigrotta</td>\n      <td>Cavalleggeri Aosta</td>\n      <td>40.822560</td>\n      <td>14.187219</td>\n    </tr>\n    <tr>\n      <th>2</th>\n      <td>Vomero</td>\n      <td>Vanvitelli</td>\n      <td>40.843586</td>\n      <td>14.222435</td>\n    </tr>\n    <tr>\n      <th>3</th>\n      <td>Vomero</td>\n      <td>Quattro giornate</td>\n      <td>40.845884</td>\n      <td>14.223100</td>\n    </tr>\n  </tbody>\n</table>\n</div>", 
                        "text/plain": "  Neighborhood       Train Station   Latitude  Longitude\n0       Chiaia       Piazza Amedeo  40.833303  14.221684\n1  Fuorigrotta  Cavalleggeri Aosta  40.822560  14.187219\n2       Vomero          Vanvitelli  40.843586  14.222435\n3       Vomero    Quattro giornate  40.845884  14.223100"
                    }, 
                    "output_type": "execute_result"
                }
            ], 
            "source": "# The code was removed by Watson Studio for sharing."
        }, 
        {
            "execution_count": 13, 
            "cell_type": "code", 
            "metadata": {}, 
            "outputs": [
                {
                    "execution_count": 13, 
                    "metadata": {}, 
                    "data": {
                        "text/html": "<div>\n<style scoped>\n    .dataframe tbody tr th:only-of-type {\n        vertical-align: middle;\n    }\n\n    .dataframe tbody tr th {\n        vertical-align: top;\n    }\n\n    .dataframe thead th {\n        text-align: right;\n    }\n</style>\n<table border=\"1\" class=\"dataframe\">\n  <thead>\n    <tr style=\"text-align: right;\">\n      <th></th>\n      <th>Neighborhood</th>\n      <th>Train Station</th>\n      <th>Latitude</th>\n      <th>Longitude</th>\n    </tr>\n  </thead>\n  <tbody>\n    <tr>\n      <th>0</th>\n      <td>Chiaia</td>\n      <td>Piazza Amedeo</td>\n      <td>40.833303</td>\n      <td>14.221684</td>\n    </tr>\n    <tr>\n      <th>1</th>\n      <td>Fuorigrotta</td>\n      <td>Cavalleggeri Aosta</td>\n      <td>40.822560</td>\n      <td>14.187219</td>\n    </tr>\n    <tr>\n      <th>2</th>\n      <td>Vomero</td>\n      <td>Vanvitelli</td>\n      <td>40.843586</td>\n      <td>14.222435</td>\n    </tr>\n    <tr>\n      <th>3</th>\n      <td>Vomero</td>\n      <td>Quattro giornate</td>\n      <td>40.845884</td>\n      <td>14.223100</td>\n    </tr>\n  </tbody>\n</table>\n</div>", 
                        "text/plain": "  Neighborhood       Train Station   Latitude  Longitude\n0       Chiaia       Piazza Amedeo  40.833303  14.221684\n1  Fuorigrotta  Cavalleggeri Aosta  40.822560  14.187219\n2       Vomero          Vanvitelli  40.843586  14.222435\n3       Vomero    Quattro giornate  40.845884  14.223100"
                    }, 
                    "output_type": "execute_result"
                }
            ], 
            "source": "final_df = pd.merge(final_df, stations, on='Neighborhood', how='right')\nfinal_df.head()"
        }, 
        {
            "source": "Let's plot a map of the area, drawing a circle on each station", 
            "cell_type": "markdown", 
            "metadata": {}
        }, 
        {
            "execution_count": 17, 
            "cell_type": "code", 
            "metadata": {}, 
            "outputs": [
                {
                    "execution_count": 17, 
                    "metadata": {}, 
                    "data": {
                        "text/html": "<div style=\"width:100%;\"><div style=\"position:relative;width:100%;height:0;padding-bottom:60%;\"><iframe src=\"data:text/html;charset=utf-8;base64,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\" style=\"position:absolute;width:100%;height:100%;left:0;top:0;border:none !important;\" allowfullscreen webkitallowfullscreen mozallowfullscreen></iframe></div></div>", 
                        "text/plain": "<folium.folium.Map at 0x7fe8500cb710>"
                    }, 
                    "output_type": "execute_result"
                }
            ], 
            "source": "address = 'Naples, NA'\n\ngeolocator = Nominatim(user_agent=\"nap_explorer\")\nlocation = geolocator.geocode(address)\nlatitude = location.latitude\nlongitude = location.longitude\n\nnap_map = folium.Map(location=[latitude, longitude], zoom_start=13)\n\n# add markers to map\nfor lat, lng, label in zip(final_df['Latitude'], final_df['Longitude'], final_df['Train Station']):\n    label = folium.Popup(label, parse_html=True)\n    folium.CircleMarker(\n        [lat, lng],\n        radius=5,\n        popup=label,\n        color='blue',\n        fill=True,\n        fill_color='#3186cc',\n        fill_opacity=0.7).add_to(nap_map)  \n    \nnap_map"
        }, 
        {
            "source": "How you can see, there is not any station in Posillipo neighborhood, and there are two in Vomero.\nI choose to analyse the Vomero neighborhood as is the easiest one to reach.", 
            "cell_type": "markdown", 
            "metadata": {}
        }, 
        {
            "execution_count": 18, 
            "cell_type": "code", 
            "metadata": {}, 
            "outputs": [
                {
                    "output_type": "stream", 
                    "name": "stdout", 
                    "text": "The geograpical coordinate of Vomero neighborhood are 40.8438464, 14.2254818.\n"
                }
            ], 
            "source": "CLIENT_ID = 'B4YHWQTP5RAQF5BKNN5LZZMNTGQVBFAS3MVBH13OEX4QLWPI' # replace with your Foursquare ID\nCLIENT_SECRET = '031GK1WSHTJS0NGOTGHC5RB53FGZQITT2BIHU3HOBJCL0HFK' # replace with your Foursquare Secret\nVERSION = '20180605' # Foursquare API version\n\naddress = 'Vomero, Naples'\n\ngeolocator = Nominatim(user_agent=\"nap_explorer\")\nlocation = geolocator.geocode(address)\nlatitude = location.latitude\nlongitude = location.longitude\nprint('The geograpical coordinate of Vomero neighborhood are {}, {}.'.format(latitude, longitude))"
        }, 
        {
            "source": "I will search in all the neighborhood that extends approximately for 1km of diameter, and with this result I will decide where is the best place to open the office", 
            "cell_type": "markdown", 
            "metadata": {}
        }, 
        {
            "execution_count": 19, 
            "cell_type": "code", 
            "metadata": {}, 
            "outputs": [
                {
                    "execution_count": 19, 
                    "metadata": {}, 
                    "data": {
                        "text/plain": "'https://api.foursquare.com/v2/venues/search?client_id=B4YHWQTP5RAQF5BKNN5LZZMNTGQVBFAS3MVBH13OEX4QLWPI&client_secret=031GK1WSHTJS0NGOTGHC5RB53FGZQITT2BIHU3HOBJCL0HFK&ll=40.8438464,14.2254818&intent=browse&v=20180604&query=Restaurant&radius=900&limit=250'"
                    }, 
                    "output_type": "execute_result"
                }
            ], 
            "source": "VERSION = '20180604'\nLIMIT = 250\nradius = 900\nsearch_query = 'Restaurant'\n\nurl = 'https://api.foursquare.com/v2/venues/search?client_id={}&client_secret={}&ll={},{}&intent={}&v={}&query={}&radius={}&limit={}'.format(CLIENT_ID, CLIENT_SECRET, latitude, longitude, 'browse', VERSION, search_query, radius, LIMIT)\nurl"
        }, 
        {
            "execution_count": 20, 
            "cell_type": "code", 
            "metadata": {}, 
            "outputs": [
                {
                    "execution_count": 20, 
                    "metadata": {}, 
                    "data": {
                        "text/plain": "{'meta': {'code': 200, 'requestId': '5c4f15b8f594df20effa9949'},\n 'response': {'venues': [{'categories': [{'icon': {'prefix': 'https://ss3.4sqi.net/img/categories_v2/food/japanese_',\n       'suffix': '.png'},\n      'id': '4bf58dd8d48988d111941735',\n      'name': 'Japanese Restaurant',\n      'pluralName': 'Japanese Restaurants',\n      'primary': True,\n      'shortName': 'Japanese'}],\n    'hasPerk': False,\n    'id': '5b264e595455b20039ca02e0',\n    'location': {'address': 'via Gianlorenzo Bernini 17',\n     'cc': 'IT',\n     'city': 'Napoli',\n     'country': 'Italia',\n     'distance': 540,\n     'formattedAddress': ['via Gianlorenzo Bernini 17',\n      '80129 Napoli Campania',\n      'Italia'],\n     'labeledLatLngs': [{'label': 'display',\n       'lat': 40.843086,\n       'lng': 14.231825}],\n     'lat': 40.843086,\n     'lng': 14.231825,\n     'neighborhood': 'Vomero',\n     'postalCode': '80129',\n     'state': 'Campania'},\n    'name': 'Sumo Sushi - Japanese Restaurant',\n    'referralId': 'v-1548686776'},\n   {'categories': [{'icon': {'prefix': 'https://ss3.4sqi.net/img/categories_v2/food/japanese_',\n       'suffix': '.png'},\n      'id': '4bf58dd8d48988d111941735',\n      'name': 'Japanese Restaurant',\n      'pluralName': 'Japanese Restaurants',\n      'primary': True,\n      'shortName': 'Japanese'}],\n    'hasPerk': False,\n    'id': '59d91e559ef8ef736a5dd160',\n    'location': {'address': 'Via Gioacchino Rossini, 1',\n     'cc': 'IT',\n     'city': 'Napoli',\n     'country': 'Italia',\n     'distance': 464,\n     'formattedAddress': ['Via Gioacchino Rossini, 1',\n      '80128 Napoli Campania',\n      'Italia'],\n     'labeledLatLngs': [{'label': 'display',\n       'lat': 40.847755,\n       'lng': 14.223535}],\n     'lat': 40.847755,\n     'lng': 14.223535,\n     'postalCode': '80128',\n     'state': 'Campania'},\n    'name': 'Nagoya Japanese Restaurant',\n    'referralId': 'v-1548686776'},\n   {'categories': [{'icon': {'prefix': 'https://ss3.4sqi.net/img/categories_v2/food/default_',\n       'suffix': '.png'},\n      'id': '4bf58dd8d48988d1c4941735',\n      'name': 'Restaurant',\n      'pluralName': 'Restaurants',\n      'primary': True,\n      'shortName': 'Restaurant'}],\n    'hasPerk': False,\n    'id': '4ed2480f722e01c58494bd88',\n    'location': {'cc': 'IT',\n     'city': 'Napoli',\n     'country': 'Italia',\n     'distance': 837,\n     'formattedAddress': ['Napoli Campania', 'Italia'],\n     'labeledLatLngs': [{'label': 'display',\n       'lat': 40.83718442953842,\n       'lng': 14.230110244508099}],\n     'lat': 40.83718442953842,\n     'lng': 14.230110244508099,\n     'state': 'Campania'},\n    'name': \"George's Restaurant\",\n    'referralId': 'v-1548686776'},\n   {'categories': [{'icon': {'prefix': 'https://ss3.4sqi.net/img/categories_v2/food/default_',\n       'suffix': '.png'},\n      'id': '4bf58dd8d48988d1c4941735',\n      'name': 'Restaurant',\n      'pluralName': 'Restaurants',\n      'primary': True,\n      'shortName': 'Restaurant'}],\n    'hasPerk': False,\n    'id': '4eadeac5a17c199864ed4b88',\n    'location': {'address': 'corso vittorio emanuele 141',\n     'cc': 'IT',\n     'city': 'Napoli',\n     'country': 'Italia',\n     'distance': 886,\n     'formattedAddress': ['corso vittorio emanuele 141',\n      'Napoli Campania',\n      'Italia'],\n     'labeledLatLngs': [{'label': 'display',\n       'lat': 40.83720877579202,\n       'lng': 14.231302441261596}],\n     'lat': 40.83720877579202,\n     'lng': 14.231302441261596,\n     'state': 'Campania'},\n    'name': 'Veritas Restaurant',\n    'referralId': 'v-1548686776'}]}}"
                    }, 
                    "output_type": "execute_result"
                }
            ], 
            "source": "results = requests.get(url).json()\nresults"
        }, 
        {
            "execution_count": 21, 
            "cell_type": "code", 
            "metadata": {}, 
            "outputs": [
                {
                    "execution_count": 21, 
                    "metadata": {}, 
                    "data": {
                        "text/html": "<div>\n<style scoped>\n    .dataframe tbody tr th:only-of-type {\n        vertical-align: middle;\n    }\n\n    .dataframe tbody tr th {\n        vertical-align: top;\n    }\n\n    .dataframe thead th {\n        text-align: right;\n    }\n</style>\n<table border=\"1\" class=\"dataframe\">\n  <thead>\n    <tr style=\"text-align: right;\">\n      <th></th>\n      <th>categories</th>\n      <th>hasPerk</th>\n      <th>id</th>\n      <th>location.address</th>\n      <th>location.cc</th>\n      <th>location.city</th>\n      <th>location.country</th>\n      <th>location.distance</th>\n      <th>location.formattedAddress</th>\n      <th>location.labeledLatLngs</th>\n      <th>location.lat</th>\n      <th>location.lng</th>\n      <th>location.neighborhood</th>\n      <th>location.postalCode</th>\n      <th>location.state</th>\n      <th>name</th>\n      <th>referralId</th>\n    </tr>\n  </thead>\n  <tbody>\n    <tr>\n      <th>0</th>\n      <td>[{'pluralName': 'Japanese Restaurants', 'icon'...</td>\n      <td>False</td>\n      <td>5b264e595455b20039ca02e0</td>\n      <td>via Gianlorenzo Bernini 17</td>\n      <td>IT</td>\n      <td>Napoli</td>\n      <td>Italia</td>\n      <td>540</td>\n      <td>[via Gianlorenzo Bernini 17, 80129 Napoli Camp...</td>\n      <td>[{'lng': 14.231825, 'lat': 40.843086, 'label':...</td>\n      <td>40.843086</td>\n      <td>14.231825</td>\n      <td>Vomero</td>\n      <td>80129</td>\n      <td>Campania</td>\n      <td>Sumo Sushi - Japanese Restaurant</td>\n      <td>v-1548686776</td>\n    </tr>\n    <tr>\n      <th>1</th>\n      <td>[{'pluralName': 'Japanese Restaurants', 'icon'...</td>\n      <td>False</td>\n      <td>59d91e559ef8ef736a5dd160</td>\n      <td>Via Gioacchino Rossini, 1</td>\n      <td>IT</td>\n      <td>Napoli</td>\n      <td>Italia</td>\n      <td>464</td>\n      <td>[Via Gioacchino Rossini, 1, 80128 Napoli Campa...</td>\n      <td>[{'lng': 14.223535, 'lat': 40.847755, 'label':...</td>\n      <td>40.847755</td>\n      <td>14.223535</td>\n      <td>NaN</td>\n      <td>80128</td>\n      <td>Campania</td>\n      <td>Nagoya Japanese Restaurant</td>\n      <td>v-1548686776</td>\n    </tr>\n    <tr>\n      <th>2</th>\n      <td>[{'pluralName': 'Restaurants', 'icon': {'suffi...</td>\n      <td>False</td>\n      <td>4ed2480f722e01c58494bd88</td>\n      <td>NaN</td>\n      <td>IT</td>\n      <td>Napoli</td>\n      <td>Italia</td>\n      <td>837</td>\n      <td>[Napoli Campania, Italia]</td>\n      <td>[{'lng': 14.230110244508099, 'lat': 40.8371844...</td>\n      <td>40.837184</td>\n      <td>14.230110</td>\n      <td>NaN</td>\n      <td>NaN</td>\n      <td>Campania</td>\n      <td>George's Restaurant</td>\n      <td>v-1548686776</td>\n    </tr>\n    <tr>\n      <th>3</th>\n      <td>[{'pluralName': 'Restaurants', 'icon': {'suffi...</td>\n      <td>False</td>\n      <td>4eadeac5a17c199864ed4b88</td>\n      <td>corso vittorio emanuele 141</td>\n      <td>IT</td>\n      <td>Napoli</td>\n      <td>Italia</td>\n      <td>886</td>\n      <td>[corso vittorio emanuele 141, Napoli Campania,...</td>\n      <td>[{'lng': 14.231302441261596, 'lat': 40.8372087...</td>\n      <td>40.837209</td>\n      <td>14.231302</td>\n      <td>NaN</td>\n      <td>NaN</td>\n      <td>Campania</td>\n      <td>Veritas Restaurant</td>\n      <td>v-1548686776</td>\n    </tr>\n  </tbody>\n</table>\n</div>", 
                        "text/plain": "                                          categories  hasPerk  \\\n0  [{'pluralName': 'Japanese Restaurants', 'icon'...    False   \n1  [{'pluralName': 'Japanese Restaurants', 'icon'...    False   \n2  [{'pluralName': 'Restaurants', 'icon': {'suffi...    False   \n3  [{'pluralName': 'Restaurants', 'icon': {'suffi...    False   \n\n                         id             location.address location.cc  \\\n0  5b264e595455b20039ca02e0   via Gianlorenzo Bernini 17          IT   \n1  59d91e559ef8ef736a5dd160    Via Gioacchino Rossini, 1          IT   \n2  4ed2480f722e01c58494bd88                          NaN          IT   \n3  4eadeac5a17c199864ed4b88  corso vittorio emanuele 141          IT   \n\n  location.city location.country  location.distance  \\\n0        Napoli           Italia                540   \n1        Napoli           Italia                464   \n2        Napoli           Italia                837   \n3        Napoli           Italia                886   \n\n                           location.formattedAddress  \\\n0  [via Gianlorenzo Bernini 17, 80129 Napoli Camp...   \n1  [Via Gioacchino Rossini, 1, 80128 Napoli Campa...   \n2                          [Napoli Campania, Italia]   \n3  [corso vittorio emanuele 141, Napoli Campania,...   \n\n                             location.labeledLatLngs  location.lat  \\\n0  [{'lng': 14.231825, 'lat': 40.843086, 'label':...     40.843086   \n1  [{'lng': 14.223535, 'lat': 40.847755, 'label':...     40.847755   \n2  [{'lng': 14.230110244508099, 'lat': 40.8371844...     40.837184   \n3  [{'lng': 14.231302441261596, 'lat': 40.8372087...     40.837209   \n\n   location.lng location.neighborhood location.postalCode location.state  \\\n0     14.231825                Vomero               80129       Campania   \n1     14.223535                   NaN               80128       Campania   \n2     14.230110                   NaN                 NaN       Campania   \n3     14.231302                   NaN                 NaN       Campania   \n\n                               name    referralId  \n0  Sumo Sushi - Japanese Restaurant  v-1548686776  \n1        Nagoya Japanese Restaurant  v-1548686776  \n2               George's Restaurant  v-1548686776  \n3                Veritas Restaurant  v-1548686776  "
                    }, 
                    "output_type": "execute_result"
                }
            ], 
            "source": "venues = results['response']['venues']\n\ndataframe = json_normalize(venues)\ndataframe.head()"
        }, 
        {
            "execution_count": 22, 
            "cell_type": "code", 
            "metadata": {}, 
            "outputs": [
                {
                    "execution_count": 22, 
                    "metadata": {}, 
                    "data": {
                        "text/html": "<div>\n<style scoped>\n    .dataframe tbody tr th:only-of-type {\n        vertical-align: middle;\n    }\n\n    .dataframe tbody tr th {\n        vertical-align: top;\n    }\n\n    .dataframe thead th {\n        text-align: right;\n    }\n</style>\n<table border=\"1\" class=\"dataframe\">\n  <thead>\n    <tr style=\"text-align: right;\">\n      <th></th>\n      <th>name</th>\n      <th>categories</th>\n      <th>address</th>\n      <th>cc</th>\n      <th>city</th>\n      <th>country</th>\n      <th>distance</th>\n      <th>formattedAddress</th>\n      <th>labeledLatLngs</th>\n      <th>lat</th>\n      <th>lng</th>\n      <th>neighborhood</th>\n      <th>postalCode</th>\n      <th>state</th>\n      <th>id</th>\n    </tr>\n  </thead>\n  <tbody>\n    <tr>\n      <th>0</th>\n      <td>Sumo Sushi - Japanese Restaurant</td>\n      <td>Japanese Restaurant</td>\n      <td>via Gianlorenzo Bernini 17</td>\n      <td>IT</td>\n      <td>Napoli</td>\n      <td>Italia</td>\n      <td>540</td>\n      <td>[via Gianlorenzo Bernini 17, 80129 Napoli Camp...</td>\n      <td>[{'lng': 14.231825, 'lat': 40.843086, 'label':...</td>\n      <td>40.843086</td>\n      <td>14.231825</td>\n      <td>Vomero</td>\n      <td>80129</td>\n      <td>Campania</td>\n      <td>5b264e595455b20039ca02e0</td>\n    </tr>\n    <tr>\n      <th>1</th>\n      <td>Nagoya Japanese Restaurant</td>\n      <td>Japanese Restaurant</td>\n      <td>Via Gioacchino Rossini, 1</td>\n      <td>IT</td>\n      <td>Napoli</td>\n      <td>Italia</td>\n      <td>464</td>\n      <td>[Via Gioacchino Rossini, 1, 80128 Napoli Campa...</td>\n      <td>[{'lng': 14.223535, 'lat': 40.847755, 'label':...</td>\n      <td>40.847755</td>\n      <td>14.223535</td>\n      <td>NaN</td>\n      <td>80128</td>\n      <td>Campania</td>\n      <td>59d91e559ef8ef736a5dd160</td>\n    </tr>\n    <tr>\n      <th>2</th>\n      <td>George's Restaurant</td>\n      <td>Restaurant</td>\n      <td>NaN</td>\n      <td>IT</td>\n      <td>Napoli</td>\n      <td>Italia</td>\n      <td>837</td>\n      <td>[Napoli Campania, Italia]</td>\n      <td>[{'lng': 14.230110244508099, 'lat': 40.8371844...</td>\n      <td>40.837184</td>\n      <td>14.230110</td>\n      <td>NaN</td>\n      <td>NaN</td>\n      <td>Campania</td>\n      <td>4ed2480f722e01c58494bd88</td>\n    </tr>\n    <tr>\n      <th>3</th>\n      <td>Veritas Restaurant</td>\n      <td>Restaurant</td>\n      <td>corso vittorio emanuele 141</td>\n      <td>IT</td>\n      <td>Napoli</td>\n      <td>Italia</td>\n      <td>886</td>\n      <td>[corso vittorio emanuele 141, Napoli Campania,...</td>\n      <td>[{'lng': 14.231302441261596, 'lat': 40.8372087...</td>\n      <td>40.837209</td>\n      <td>14.231302</td>\n      <td>NaN</td>\n      <td>NaN</td>\n      <td>Campania</td>\n      <td>4eadeac5a17c199864ed4b88</td>\n    </tr>\n  </tbody>\n</table>\n</div>", 
                        "text/plain": "                               name           categories  \\\n0  Sumo Sushi - Japanese Restaurant  Japanese Restaurant   \n1        Nagoya Japanese Restaurant  Japanese Restaurant   \n2               George's Restaurant           Restaurant   \n3                Veritas Restaurant           Restaurant   \n\n                       address  cc    city country  distance  \\\n0   via Gianlorenzo Bernini 17  IT  Napoli  Italia       540   \n1    Via Gioacchino Rossini, 1  IT  Napoli  Italia       464   \n2                          NaN  IT  Napoli  Italia       837   \n3  corso vittorio emanuele 141  IT  Napoli  Italia       886   \n\n                                    formattedAddress  \\\n0  [via Gianlorenzo Bernini 17, 80129 Napoli Camp...   \n1  [Via Gioacchino Rossini, 1, 80128 Napoli Campa...   \n2                          [Napoli Campania, Italia]   \n3  [corso vittorio emanuele 141, Napoli Campania,...   \n\n                                      labeledLatLngs        lat        lng  \\\n0  [{'lng': 14.231825, 'lat': 40.843086, 'label':...  40.843086  14.231825   \n1  [{'lng': 14.223535, 'lat': 40.847755, 'label':...  40.847755  14.223535   \n2  [{'lng': 14.230110244508099, 'lat': 40.8371844...  40.837184  14.230110   \n3  [{'lng': 14.231302441261596, 'lat': 40.8372087...  40.837209  14.231302   \n\n  neighborhood postalCode     state                        id  \n0       Vomero      80129  Campania  5b264e595455b20039ca02e0  \n1          NaN      80128  Campania  59d91e559ef8ef736a5dd160  \n2          NaN        NaN  Campania  4ed2480f722e01c58494bd88  \n3          NaN        NaN  Campania  4eadeac5a17c199864ed4b88  "
                    }, 
                    "output_type": "execute_result"
                }
            ], 
            "source": "# keep only columns that include venue name, and anything that is associated with location\nfiltered_columns = ['name', 'categories'] + [col for col in dataframe.columns if col.startswith('location.')] + ['id']\ndataframe_filtered = dataframe.loc[:, filtered_columns]\n\n# function that extracts the category of the venue\ndef get_category_type(row):\n    try:\n        categories_list = row['categories']\n    except:\n        categories_list = row['venue.categories']\n        \n    if len(categories_list) == 0:\n        return None\n    else:\n        return categories_list[0]['name']\n\n# filter the category for each row\ndataframe_filtered['categories'] = dataframe_filtered.apply(get_category_type, axis=1)\n\n# clean column names by keeping only last term\ndataframe_filtered.columns = [column.split('.')[-1] for column in dataframe_filtered.columns]\n\ndataframe_filtered"
        }, 
        {
            "source": "I will drop the labeledLatLngs column and replace the NaN values in neighborhood column with 'Vomero' because we know that are in that neighborhood. The other NaN values are ok because they're all about the location and we have the lat and lng.", 
            "cell_type": "markdown", 
            "metadata": {}
        }, 
        {
            "execution_count": 23, 
            "cell_type": "code", 
            "metadata": {}, 
            "outputs": [
                {
                    "execution_count": 23, 
                    "metadata": {}, 
                    "data": {
                        "text/html": "<div>\n<style scoped>\n    .dataframe tbody tr th:only-of-type {\n        vertical-align: middle;\n    }\n\n    .dataframe tbody tr th {\n        vertical-align: top;\n    }\n\n    .dataframe thead th {\n        text-align: right;\n    }\n</style>\n<table border=\"1\" class=\"dataframe\">\n  <thead>\n    <tr style=\"text-align: right;\">\n      <th></th>\n      <th>name</th>\n      <th>categories</th>\n      <th>address</th>\n      <th>cc</th>\n      <th>city</th>\n      <th>country</th>\n      <th>distance</th>\n      <th>formattedAddress</th>\n      <th>lat</th>\n      <th>lng</th>\n      <th>neighborhood</th>\n      <th>postalCode</th>\n      <th>state</th>\n      <th>id</th>\n    </tr>\n  </thead>\n  <tbody>\n    <tr>\n      <th>0</th>\n      <td>Sumo Sushi - Japanese Restaurant</td>\n      <td>Japanese Restaurant</td>\n      <td>via Gianlorenzo Bernini 17</td>\n      <td>IT</td>\n      <td>Napoli</td>\n      <td>Italia</td>\n      <td>540</td>\n      <td>[via Gianlorenzo Bernini 17, 80129 Napoli Camp...</td>\n      <td>40.843086</td>\n      <td>14.231825</td>\n      <td>Vomero</td>\n      <td>80129</td>\n      <td>Campania</td>\n      <td>5b264e595455b20039ca02e0</td>\n    </tr>\n    <tr>\n      <th>1</th>\n      <td>Nagoya Japanese Restaurant</td>\n      <td>Japanese Restaurant</td>\n      <td>Via Gioacchino Rossini, 1</td>\n      <td>IT</td>\n      <td>Napoli</td>\n      <td>Italia</td>\n      <td>464</td>\n      <td>[Via Gioacchino Rossini, 1, 80128 Napoli Campa...</td>\n      <td>40.847755</td>\n      <td>14.223535</td>\n      <td>Vomero</td>\n      <td>80128</td>\n      <td>Campania</td>\n      <td>59d91e559ef8ef736a5dd160</td>\n    </tr>\n    <tr>\n      <th>2</th>\n      <td>George's Restaurant</td>\n      <td>Restaurant</td>\n      <td>NaN</td>\n      <td>IT</td>\n      <td>Napoli</td>\n      <td>Italia</td>\n      <td>837</td>\n      <td>[Napoli Campania, Italia]</td>\n      <td>40.837184</td>\n      <td>14.230110</td>\n      <td>Vomero</td>\n      <td>NaN</td>\n      <td>Campania</td>\n      <td>4ed2480f722e01c58494bd88</td>\n    </tr>\n    <tr>\n      <th>3</th>\n      <td>Veritas Restaurant</td>\n      <td>Restaurant</td>\n      <td>corso vittorio emanuele 141</td>\n      <td>IT</td>\n      <td>Napoli</td>\n      <td>Italia</td>\n      <td>886</td>\n      <td>[corso vittorio emanuele 141, Napoli Campania,...</td>\n      <td>40.837209</td>\n      <td>14.231302</td>\n      <td>Vomero</td>\n      <td>NaN</td>\n      <td>Campania</td>\n      <td>4eadeac5a17c199864ed4b88</td>\n    </tr>\n  </tbody>\n</table>\n</div>", 
                        "text/plain": "                               name           categories  \\\n0  Sumo Sushi - Japanese Restaurant  Japanese Restaurant   \n1        Nagoya Japanese Restaurant  Japanese Restaurant   \n2               George's Restaurant           Restaurant   \n3                Veritas Restaurant           Restaurant   \n\n                       address  cc    city country  distance  \\\n0   via Gianlorenzo Bernini 17  IT  Napoli  Italia       540   \n1    Via Gioacchino Rossini, 1  IT  Napoli  Italia       464   \n2                          NaN  IT  Napoli  Italia       837   \n3  corso vittorio emanuele 141  IT  Napoli  Italia       886   \n\n                                    formattedAddress        lat        lng  \\\n0  [via Gianlorenzo Bernini 17, 80129 Napoli Camp...  40.843086  14.231825   \n1  [Via Gioacchino Rossini, 1, 80128 Napoli Campa...  40.847755  14.223535   \n2                          [Napoli Campania, Italia]  40.837184  14.230110   \n3  [corso vittorio emanuele 141, Napoli Campania,...  40.837209  14.231302   \n\n  neighborhood postalCode     state                        id  \n0       Vomero      80129  Campania  5b264e595455b20039ca02e0  \n1       Vomero      80128  Campania  59d91e559ef8ef736a5dd160  \n2       Vomero        NaN  Campania  4ed2480f722e01c58494bd88  \n3       Vomero        NaN  Campania  4eadeac5a17c199864ed4b88  "
                    }, 
                    "output_type": "execute_result"
                }
            ], 
            "source": "dataframe_filtered.drop(['labeledLatLngs'], axis=1, inplace=True)\ndataframe_filtered.replace({'neighborhood':np.nan}, value='Vomero')"
        }, 
        {
            "execution_count": 24, 
            "cell_type": "code", 
            "metadata": {
                "scrolled": true
            }, 
            "outputs": [
                {
                    "execution_count": 24, 
                    "metadata": {}, 
                    "data": {
                        "text/html": "<div style=\"width:100%;\"><div style=\"position:relative;width:100%;height:0;padding-bottom:60%;\"><iframe src=\"data:text/html;charset=utf-8;base64,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\" style=\"position:absolute;width:100%;height:100%;left:0;top:0;border:none !important;\" allowfullscreen webkitallowfullscreen mozallowfullscreen></iframe></div></div>", 
                        "text/plain": "<folium.folium.Map at 0x7fe84bd394e0>"
                    }, 
                    "output_type": "execute_result"
                }
            ], 
            "source": "vomero_map = folium.Map(location=[latitude, longitude], zoom_start=15)\n\nfor lat, lng, label in zip(dataframe_filtered.lat, dataframe_filtered.lng, dataframe_filtered.categories):\n    folium.CircleMarker(\n        [lat, lng],\n        radius=5,\n        color='blue',\n        popup=label,\n        fill = True,\n        fill_color='blue',\n        fill_opacity=0.6\n    ).add_to(vomero_map)\n    \nvomero_map"
        }, 
        {
            "source": "Results section where you discuss the results:\n\nAccording to the map, the best place where to open an office is between two Neighborhoods: Vomero and Chiaia.\nIn this area there are different restaurants and also a park where the employeers can enjoy their breaks.", 
            "cell_type": "markdown", 
            "metadata": {}
        }, 
        {
            "source": "Discussion section where you discuss any observations you noted and any recommendations you can make based on the results:\n\nIs better to have a Commercial account when you use the Foursquare API, or the data you retrieve is never enough for a good analisys.\nFolium library is a really good method to analyse the data retrieved with Foursquare API. In this way you have a better understanding of the zone you're analysing and it's really much simpler to analyse the data, because you have a visual feedback of it.", 
            "cell_type": "markdown", 
            "metadata": {}
        }, 
        {
            "source": "Conclusion section where you conclude the report:\n\nI firstly have retrieved the data about neighborhoods from wikipedia website. Then I worked on it to create a dataframe. \nFor a in-depth analysis I've retrieved the data from another website in which are described the best neighborhoods where to live in Naples and I've compared my dataframe and the one built with the second website data to get the existing best neighborhoods.\nI've mapped the train stations for each neighborhoods and I've figured out that the most easily reachable is the Vomero neighborhood, because there are two station in a radius of 250m. So I decided to analyse this neighborhood. Finally, with Foursquare API I've retrieved the data about nearby restaurants. There are many restaurants in that zone, food from all countries of the world (Japan, India etc) so all the employers have a good choice for what to eat during lunch break. And also there is a park where they can enjoy their break. \nSo it's definitively a good place where to open an office!", 
            "cell_type": "markdown", 
            "metadata": {}
        }
    ], 
    "metadata": {
        "kernelspec": {
            "display_name": "Python 3.5", 
            "name": "python3", 
            "language": "python"
        }, 
        "language_info": {
            "mimetype": "text/x-python", 
            "nbconvert_exporter": "python", 
            "version": "3.5.5", 
            "name": "python", 
            "file_extension": ".py", 
            "pygments_lexer": "ipython3", 
            "codemirror_mode": {
                "version": 3, 
                "name": "ipython"
            }
        }
    }, 
    "nbformat": 4
}