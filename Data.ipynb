{
    "nbformat_minor": 1, 
    "cells": [
        {
            "source": "The list of the best neighborhoods in Naples from Wikipedia website(https://it.wikipedia.org/wiki/Quartieri_di_Napoli). \nThen I will take the best 5 neighborhoods from this website: https://news.unicreditsubitocasa.it/vendere-e-comprare/napoli-quartieri-prezzi-immobili-trasporti/\nThis list will be used to retrieve the best 5 neighborhoods and to create a map of them, to have a better understanding of the area we are going to analyse.\nThen I will use the Foursquare API to figure out which one is the perfect place for a new office, looking for a place near a train station and with a good choice of restaurants and coffee shops that results good for workers.", 
            "cell_type": "markdown", 
            "metadata": {
                "collapsed": true
            }
        }
    ], 
    "metadata": {
        "kernelspec": {
            "display_name": "Python 3.5", 
            "name": "python3", 
            "language": "python"
        }, 
        "language_info": {
            "mimetype": "text/x-python", 
            "nbconvert_exporter": "python", 
            "version": "3.5.5", 
            "name": "python", 
            "file_extension": ".py", 
            "pygments_lexer": "ipython3", 
            "codemirror_mode": {
                "version": 3, 
                "name": "ipython"
            }
        }
    }, 
    "nbformat": 4
}